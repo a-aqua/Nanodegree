{
 "cells": [
  {
   "cell_type": "markdown",
   "metadata": {},
   "source": [
    "These lecture notes are from Udacity's course on Git that was the part of Data Analyst Nanodegree."
   ]
  },
  {
   "cell_type": "markdown",
   "metadata": {},
   "source": [
    "# Basic commans"
   ]
  },
  {
   "cell_type": "markdown",
   "metadata": {},
   "source": [
    "`git clone some_repo.git [custom_name]` - clones `some_repo` into the current directory. If `custom_name` is specified, then the cloned repository gets this name. "
   ]
  },
  {
   "cell_type": "markdown",
   "metadata": {},
   "source": [
    "## `git log` and `git show`"
   ]
  },
  {
   "cell_type": "markdown",
   "metadata": {},
   "source": [
    "- `git log` - displays information about existing commits. \n",
    "- `git show` - displays information about specific commit"
   ]
  },
  {
   "cell_type": "markdown",
   "metadata": {},
   "source": [
    "## Navigating git logs"
   ]
  },
  {
   "cell_type": "markdown",
   "metadata": {},
   "source": [
    "Helpful keys:\n",
    "\n",
    "**to scroll down, press**:\n",
    "\n",
    "- `j` or `↓` to move down one line at a time \n",
    "- `d` to move by half the page screen \n",
    "- `f` to move by a whole page screen \n",
    "\n",
    "**to scroll up, press**: \n",
    "\n",
    "- `k` or ↑ to move _up_ one line at a time  \n",
    "- `u` to move by half the page screen  \n",
    "- `b` to move by a whole page screen\n",
    "\n",
    "press q to quit out of the log (returns to the regular command prompt)"
   ]
  },
  {
   "cell_type": "markdown",
   "metadata": {},
   "source": [
    "`git log --oneline` - shows all commits in condensed format"
   ]
  },
  {
   "cell_type": "markdown",
   "metadata": {},
   "source": [
    "`git log --stat` - allows to see what files have been changed in the commit"
   ]
  },
  {
   "cell_type": "markdown",
   "metadata": {},
   "source": [
    "`git log -p` - allow to see not only what files were changed but what exactly was changed in these files!!!"
   ]
  },
  {
   "cell_type": "markdown",
   "metadata": {},
   "source": [
    "Example for reading the information about the patch: \n",
    "`@@ -38, 6 +38, 11 @@` -38, 6 means that the changed code started at line 38 in the old version and spanned over 6 lines. The new code also starts at line 38, but now takes 11 lines. "
   ]
  },
  {
   "cell_type": "markdown",
   "metadata": {},
   "source": [
    "`git log -p -w` - ignores whitespace changes (usefule when the code is simply moved one line down (whitespace added), so we see actual changes."
   ]
  },
  {
   "cell_type": "markdown",
   "metadata": {},
   "source": [
    "`git show fdf5493` - shows the specified commit"
   ]
  },
  {
   "cell_type": "markdown",
   "metadata": {},
   "source": [
    "`git diff` - shows the difference between the files"
   ]
  },
  {
   "cell_type": "markdown",
   "metadata": {},
   "source": [
    "## Making commits\n",
    "The act of moving a file from the Working Directory to the Staging Index is called \"staging\""
   ]
  },
  {
   "cell_type": "markdown",
   "metadata": {},
   "source": [
    "`git add .` - adds all files from working directory to staging index"
   ]
  },
  {
   "cell_type": "markdown",
   "metadata": {},
   "source": [
    "Unstage: "
   ]
  },
  {
   "cell_type": "markdown",
   "metadata": {},
   "source": [
    "`git rm --cached <file>...`"
   ]
  },
  {
   "cell_type": "markdown",
   "metadata": {},
   "source": [
    "### What makes a good commit?"
   ]
  },
  {
   "cell_type": "markdown",
   "metadata": {},
   "source": [
    "#### Commit contents"
   ]
  },
  {
   "cell_type": "markdown",
   "metadata": {},
   "source": [
    "The goal is that each commit has a single focus. Each commit should record a single-unit change. Now this can be a bit subjective (which is totally fine), but each commit should make a change to just one aspect of the project.\n",
    "\n",
    "A commit shouldn't include unrelated changes - changes to the sidebar and rewording content in the footer. These two aren't related to each other and shouldn't be included in the same commit. Work on one change first, commit that, and then change the second one. That way, if it turns out that one change had a bug and you have to undo it, you don't have to undo the other change too."
   ]
  },
  {
   "cell_type": "markdown",
   "metadata": {},
   "source": [
    "#### Commit message"
   ]
  },
  {
   "cell_type": "markdown",
   "metadata": {},
   "source": [
    "**Do**\n",
    "\n",
    "- do keep the message short (less than 60-ish characters)\n",
    "- do explain what the commit does (not how or why!)\n",
    "\n",
    "**Do not**\n",
    "\n",
    "- do not explain why the changes are made (more on this below)\n",
    "- do not explain how the changes are made (that's what git log -p is for!)\n",
    "- do not use the word \"and\"\n",
    "- if you have to use \"and\", your commit message is probably doing too many changes - break the changes into separate commits (e.g. \"make the background color pink and increase the size of the sidebar\")"
   ]
  },
  {
   "cell_type": "markdown",
   "metadata": {},
   "source": [
    "**!! There is a separate place to write the why part of the commit**:\n",
    "\n",
    "When you're writing the commit message, the first line is the message itself. After the message, leave a blank line, and then type out the body or explanation including details about why the commit is needed (e.g. URL links).\n",
    "\n",
    "Example of Git guidelines: \n",
    "https://udacity.github.io/git-styleguide/"
   ]
  },
  {
   "cell_type": "markdown",
   "metadata": {},
   "source": [
    "### `.gitignore`"
   ]
  },
  {
   "cell_type": "markdown",
   "metadata": {},
   "source": [
    "Globbing lets you use special characters to match patterns/characters. In the .gitignore file, you can use the following:\n",
    "\n",
    "- blank lines can be used for spacing \n",
    "- \\# - marks line as a comment\n",
    "- \\* - matches 0 or more characters\n",
    "- \\? - matches 1 character\n",
    "- [abc] - matches a, b, _or_ c\n",
    "- \\** - matches nested directories - a/\\**/z matches\n",
    "    - a/z\n",
    "    - a/b/z\n",
    "    - a/b/c/z"
   ]
  },
  {
   "cell_type": "markdown",
   "metadata": {},
   "source": [
    "### Annotated tags"
   ]
  },
  {
   "cell_type": "markdown",
   "metadata": {},
   "source": [
    "Example: `git tag -a v1.0` Note: the -a flag is used. This flag tells Git to create an annotated flag. If you don't provide the flag (i.e. git tag v1.0) then it'll create what's called a lightweight tag.\n",
    "\n",
    "To tag an older commit: \n",
    "`git tag -a beta <SHA>` \n",
    "\n",
    "Annotated tags are recommended because they include a lot of extra information such as:\n",
    "\n",
    "- the person who made the tag\n",
    "- the date the tag was made\n",
    "- a message for the tag\n",
    "\n",
    "To delete a tag: \n",
    "\n",
    "`git tag -d v1.0` or `git tag --delete v1.0` "
   ]
  },
  {
   "cell_type": "markdown",
   "metadata": {},
   "source": [
    "### Branching"
   ]
  },
  {
   "cell_type": "markdown",
   "metadata": {},
   "source": [
    "Create a new branch `alt-sidebar-loc` that will start from the specified commit (`42a69f` in this case): \n",
    "\n",
    "`git branch alt-sidebar-loc 42a69f`"
   ]
  },
  {
   "cell_type": "markdown",
   "metadata": {},
   "source": [
    "To delete a branch: \n",
    "\n",
    "- `git branch -d <branch name>` (simple delete)\n",
    "- `git branch -D <branch name>` (deletes even if there are unmerged commits)"
   ]
  },
  {
   "cell_type": "markdown",
   "metadata": {},
   "source": [
    "Create branch and switch to it:\n",
    "`git checkout -b <new branch name> <source branch name>` (e.g. `git checkout -b footer master`) "
   ]
  },
  {
   "cell_type": "markdown",
   "metadata": {},
   "source": [
    "Show all branches: \n",
    "`git log --oneline --decorate --graph --all`"
   ]
  },
  {
   "cell_type": "markdown",
   "metadata": {},
   "source": [
    "### Merging"
   ]
  },
  {
   "cell_type": "markdown",
   "metadata": {},
   "source": [
    "Two main types of merges in Git: \n",
    "- regular merge: \n",
    "    - two divergent branches are combined\n",
    "    - a merge commit is created\n",
    "- Fast-forward merge: a fast-forward merge will just move the currently checked out branch forward until it points to the same commit that the other branch"
   ]
  },
  {
   "cell_type": "markdown",
   "metadata": {},
   "source": [
    "When a merge happens, Git will:\n",
    "\n",
    "- look at the branches that it's going to merge \n",
    "- look back along the branch's history to find a single commit that both branches have in their commit history\n",
    "- combine the lines of code that were changed on the separate branches together\n",
    "- make a commit to record the merge\n",
    "\n",
    "When we merge, we're merging some other branch into the current (checked-out) branch"
   ]
  },
  {
   "cell_type": "markdown",
   "metadata": {},
   "source": [
    "`git merge <name of the branch to be merge into current branch>`"
   ]
  },
  {
   "cell_type": "markdown",
   "metadata": {},
   "source": [
    "#### Solving merge conflicts\n",
    "- locate and remove all lines with merge conflict indicators\n",
    "- determine what to keep\n",
    "- save the file(s)\n",
    "- stage the file(s)\n",
    "- make a commit"
   ]
  },
  {
   "cell_type": "markdown",
   "metadata": {},
   "source": [
    "### Undoing changes \n",
    "\n",
    "#### Amend"
   ]
  },
  {
   "cell_type": "markdown",
   "metadata": {},
   "source": [
    "To do add new changes to current commit:\n",
    "\n",
    "- edit the file(s)\n",
    "- save the file(s)\n",
    "- stage the file(s)\n",
    "- and run `git commit --amend`"
   ]
  },
  {
   "cell_type": "markdown",
   "metadata": {},
   "source": [
    "#### Revert \n",
    "\n",
    "`git revert <SHA-of-commit-to-revert>` - undoes the changed in the specified commit AND makes a new commit"
   ]
  },
  {
   "cell_type": "markdown",
   "metadata": {},
   "source": [
    "#### Reset\n",
    "\n",
    "Resetting erases commits!"
   ]
  },
  {
   "cell_type": "markdown",
   "metadata": {},
   "source": [
    "#### Ancestry references: \n",
    "\n",
    "`^` – indicates the parent commit  \n",
    "`~` – indicates the first parent commit"
   ]
  },
  {
   "cell_type": "markdown",
   "metadata": {},
   "source": [
    "- the parent commit – the following indicate the parent commit of the current commit\n",
    "    - HEAD^\n",
    "    - HEAD~\n",
    "    - HEAD~1\n",
    "- the grandparent commit – the following indicate the grandparent commit of the current commit\n",
    "    - HEAD^^\n",
    "    - HEAD~2\n",
    "- the great-grandparent commit – the following indicate the great-grandparent commit of the current commit\n",
    "    - HEAD^^^\n",
    "    - HEAD~3"
   ]
  },
  {
   "cell_type": "markdown",
   "metadata": {},
   "source": [
    "The main difference between the ^ and the ~ is when a commit is created from a merge. A merge commit has two parents. With a merge commit, the ^ reference is used to indicate the first parent of the commit while ^2 indicates the second parent. The first parent is the branch you were on when you ran git merge while the second parent is the branch that was merged in."
   ]
  },
  {
   "cell_type": "markdown",
   "metadata": {},
   "source": [
    "#### Reset \n",
    "\n",
    "`git reset <reference-to-commit>`\n",
    "It can be used to:\n",
    "\n",
    "- move the HEAD and current branch pointer to the referenced commit\n",
    "- erase commits with the --hard flag (changes go to trash)\n",
    "- moves committed changes to the staging index with the --soft flag (changes are staged)\n",
    "- unstages committed changes --mixed flag (changes are in working directory, not staged)"
   ]
  }
 ],
 "metadata": {
  "kernelspec": {
   "display_name": "DAND",
   "language": "python",
   "name": "dand"
  },
  "language_info": {
   "codemirror_mode": {
    "name": "ipython",
    "version": 3
   },
   "file_extension": ".py",
   "mimetype": "text/x-python",
   "name": "python",
   "nbconvert_exporter": "python",
   "pygments_lexer": "ipython3",
   "version": "3.6.8"
  }
 },
 "nbformat": 4,
 "nbformat_minor": 2
}
