{
 "cells": [
  {
   "cell_type": "markdown",
   "metadata": {},
   "source": [
    "# A/B testing"
   ]
  },
  {
   "cell_type": "markdown",
   "metadata": {},
   "source": [
    "Classical setup for A/B Testing for a website:   \n",
    "<b>Null Hypothesis</b>: The new version is equal or worse than the old version.  \n",
    "<b>Alternative Hypothesis</b>: The new version is better than the old version.    "
   ]
  },
  {
   "cell_type": "markdown",
   "metadata": {},
   "source": [
    "Situation when you **can't** apply A/B testing:\n",
    "- When you're testing a whole new experience (because of change aversion and novelty effect). In this case we don't have a baseline to compare with. \n",
    "- When we want to identify what's missing on a webpage (what functionality)"
   ]
  },
  {
   "cell_type": "markdown",
   "metadata": {},
   "source": [
    "<b>Novelty Effect</b> - when existing users may give an unfair advantage to the new version, because they're excited or drawn to the change  \n",
    "<b>Change Aversion</b> - when existing users may give an unfair advantage to the old version, simply because they are unhappy with the fact of the change "
   ]
  },
  {
   "cell_type": "markdown",
   "metadata": {},
   "source": [
    "Examples when A/B testing will not work: \n",
    "- Checking if something is missing on a website  \n",
    "- Adding premium service (because we can't do random assignment - user have to opt in for it). In this case we can only test how many people will read about premium service or opt in.  \n",
    "- Website selling cars: will a change increase the number of return customers or referrals? Buying a care is a rare even and it will take too long to actually test it. \n",
    "- Upate logo and brand (change aversion and noverty effect)"
   ]
  },
  {
   "cell_type": "markdown",
   "metadata": {},
   "source": [
    "Examples when A/B test works:\n",
    "- Change of a recommendation algorithm  \n",
    "- Change in backend that we have technical ability to measure\n",
    "- Test layout of initial page (e.g. order of blocks, what information we put there)"
   ]
  },
  {
   "cell_type": "markdown",
   "metadata": {},
   "source": [
    "## Funnel "
   ]
  },
  {
   "cell_type": "markdown",
   "metadata": {},
   "source": [
    "<p><img src=\"funnel.png\" width=\"200\" align='left'></p>\n",
    "<p>Source: Udacity</p>"
   ]
  },
  {
   "cell_type": "markdown",
   "metadata": {},
   "source": [
    "## A/B test setup example"
   ]
  },
  {
   "cell_type": "markdown",
   "metadata": {},
   "source": [
    "### Chosing hypothesis and metric "
   ]
  },
  {
   "cell_type": "markdown",
   "metadata": {},
   "source": [
    "**Initial Hypothesis:**  \n",
    "Changing the color of the start button from orange to pink will increase how many students explore Audacity's courses.  \n",
    "\n",
    "**Possible metrics:**  \n",
    "1) Total number of courses completed. Problem: too long, hard to evaluate  \n",
    "\n",
    "2) Number of clicks. What if more total users are in one of the groups? \n",
    "\n",
    "3) Click-through-rate - ratio of clicks to page views (fixes the problem in 2))"
   ]
  },
  {
   "cell_type": "markdown",
   "metadata": {},
   "source": [
    "$$\\frac{NumberOfClicks}{NumberOfPageViews}$$  \n",
    "\n",
    "Problem: what if one user clicks 5 times and the other - 0 times, then the ratio will be 2.5, which doesn't reflect the behaviour correctly. However, this metric works for usability."
   ]
  },
  {
   "cell_type": "markdown",
   "metadata": {},
   "source": [
    "4) Click-through-probability - ratio of unique visitors who click to unique visitors\n",
    "\n",
    "$$\\frac{UniqueVisitorsWhoClick}{UniqueVisitorsToPage}$$  \n",
    "\n",
    "Fixes problem in 3). The ratio for the example in 3) is 0.5."
   ]
  },
  {
   "cell_type": "markdown",
   "metadata": {},
   "source": [
    "**Updated Hypothesis:**  \n",
    "Changing the color of the start button from orange to pink will increase the click-through probability. Or:\n",
    "$$H_0: CPR_{new} \\leq CPR_{old}$$\n",
    "$$H_1: CPR_{new} > CPR_{old}$$\n"
   ]
  },
  {
   "cell_type": "markdown",
   "metadata": {},
   "source": [
    "### Probability distributions for A/B testing\n",
    "For A/B testing we often use binomial distribution. Cases when we can use it:   \n",
    "- 2 types of outcomes: success/failure  \n",
    "- independent events (i.e. success in trial n doesn't say anything about the outcome of trial n+1  \n",
    "- identical distribution (p is the same for all)\n",
    "\n",
    "Valid applications of binomial distribution: \n",
    "- roll a die 50 times. Outcomes: 6 or other\n",
    "- student completion of course within 2 months: yes or no\n",
    "\n",
    "Invalid applications of binomial distribution: \n",
    "- drawing 20 cards from a shuffled deck. Outcomes: red or black\n",
    "- clicks on a search results page (we don't know if this was first search for the user or not) \n",
    "- purchase of items within a week (in a shopping cart) - the user can have multiple items on the account and buy them all \n",
    "\n",
    "\n",
    "Some properties of binomial distribution:\n",
    "$$ \\mu = p, \\sigma = \\sqrt{\\frac{p(1-p)}{N}}$$  \n",
    ", where p - probability of success event, N - number of trials\n",
    "\n",
    "Note: here, sigma is different from sigma for binomial distribution, because we're using <a target=\"_blank\" href=\"https://en.wikipedia.org/wiki/Binomial_distribution#Normal_approximation\">normal approximation</a>."
   ]
  },
  {
   "cell_type": "markdown",
   "metadata": {},
   "source": [
    "Let's say we don't know p, so we need to estimate it based on the experiment, where N = 20, x = 16: \n",
    "$$ \\hat{p} = \\frac{16}{20}$$"
   ]
  },
  {
   "cell_type": "markdown",
   "metadata": {},
   "source": [
    "### Confidence interval "
   ]
  },
  {
   "cell_type": "markdown",
   "metadata": {},
   "source": [
    "**Informal definition:**  \n",
    "If we theoretically repeated experiment over and over again we would expect that the interval we've constructed around our sample mean to cover the true value in the population in 95% of the time. "
   ]
  },
  {
   "cell_type": "markdown",
   "metadata": {},
   "source": [
    "**Calculting the confidence interval**  \n",
    "Let N be number of users, x - number of users who clicked. Then:  \n",
    "\n",
    "$$ \\hat{p} = \\frac{x}{N}$$\n",
    "\n",
    "Let N = 1000, x = 100: \n",
    "\n",
    "$$ \\hat{p} = \\frac{100}{1000} = 0.1$$  \n",
    "\n",
    "0.1 is the **centre** of the confidence interval. We need to calculate the width of the confidence interval, also known as margin of error. \n",
    "\n",
    "Instead of binomial, we can user normal distribution in case those two conditions are satisfied:  \n",
    "\n",
    "$$ N * \\hat{p} > 5$$\n",
    "$$ N * (1 -\\hat{p}) > 5$$\n",
    "\n",
    "Then we can calculate the margin of error in the following way:  \n",
    "\n",
    "$$ m = z * SE $$\n",
    "$$ m = z * \\sqrt{\\frac{p*(1-p)}{N}}$$"
   ]
  },
  {
   "cell_type": "markdown",
   "metadata": {},
   "source": [
    "To find the z-score for the 95% confidence intreval, we take one tail: 100-5/2 = 97.5 and then look for 0.975 in the <a target=\"_blank\" href=\"https://www.math.upenn.edu/~chhays/zscoretable.pdf\">z-scores table</a>) to find out that the z-score is 1.96:\n",
    "\n",
    "$$ m = 1.96* \\sqrt{\\frac{0.1*(1-0.1)}{1000}} = 0.019$$\n",
    "\n",
    "So our margin of error is from 0.081 to 0.119."
   ]
  },
  {
   "cell_type": "markdown",
   "metadata": {},
   "source": [
    "**Another example:**\n",
    "N = 2000, x = 300, confidence interval - z. Find the margin of error. \n",
    "Solution:  \n",
    "In the z-table we need to look for 100-1/2=99.5. That is 2.575. Hence: \n",
    "\n",
    "$$ m = 2.575* \\sqrt{\\frac{0.15*(1-0.15)}{2000}} = 0.021$$\n",
    "\n",
    "Margin of error is from 0.129 to 0.171"
   ]
  },
  {
   "cell_type": "markdown",
   "metadata": {},
   "source": [
    "### Hypothesis Testing"
   ]
  },
  {
   "cell_type": "markdown",
   "metadata": {},
   "source": [
    "P(results are due to chance) - ?   \n",
    "Let $p_{cont}$ be the probability for the control group (with orange button) and $p_{exp}$ for the experiment group (with pink button). \n",
    "In case changing the button colour has no effect, the probability distributions will be the same: $p_{cont}$ = $p_{exp}$.\n",
    "\n",
    "**Null hypothesis $H_0$:**  \n",
    "$$p_{exp} = p_{cont}$$\n",
    "$$p_{exp} - p_{cont} = 0$$\n",
    "\n",
    "**Alternative hypothesis $H_A$:**\n",
    "$$p_{exp} \\neq p_{cont}$$  \n",
    "\n",
    "**The process:**\n",
    "- Measure $\\hat{p}_{cont}$ and $\\hat{p}_{exp}$  \n",
    "- Calculate $p(\\hat{p}_{exp} - \\hat{p}_{cont} | H_0)$\n",
    "- Reject $H_0$ if P is small enough"
   ]
  },
  {
   "cell_type": "markdown",
   "metadata": {},
   "source": [
    "**Two-tailed vs one-tailed:**   \n",
    "- One-tailed allows to distinguish between a \"statistically significant positive result\" and \"no statistically significant result\".  \n",
    "- Two-tailed allows to distinguish between a \"statistically significant positive result\", \"statistically significant negative result\" and \"no statistically significant result\".  "
   ]
  },
  {
   "cell_type": "markdown",
   "metadata": {},
   "source": [
    "### Pooled standard error  \n",
    "Let $x_{cont}, x_{exp}$ be the number of users that clicked in control and experiment groups respectively. Let $N_{cont}$ and $N_{exp}$ be the number of users in each group. \n",
    "**Pooled probability** is total probability across groups: \n",
    "$$\\hat{p_{pooled}} = \\frac{x_{exp} + x_{cont}}{N_{exp} + N_{cont}}$$  \n",
    "\n",
    "**Pooled standard error:**\n",
    "$$SEpool = \\sqrt{\\hat{p}_{pool}*(1-\\hat{p}_{pool})*(\\frac{1}{N_{cont}}+\\frac{1}{N_{exp}})}$$  \n",
    "\n",
    "Then to formulate $H_0$:  \n",
    "$$\\hat{d} = \\hat{p}_{exp} - \\hat{p}_{cont}$$\n",
    "$$H_0: d = 0, d \\sim N(0, SEpool)$$  \n",
    "\n",
    "So if $\\hat{d} > 1.96*SEpool$ or $\\hat{d} < -1.96*SEpool$, then we **reject** the hypothesis. "
   ]
  },
  {
   "cell_type": "markdown",
   "metadata": {},
   "source": [
    "### Statistical power: how many trials do we need? "
   ]
  },
  {
   "cell_type": "markdown",
   "metadata": {},
   "source": [
    "$\\alpha = P(\\text{reject  null} | \\text{null  true})$  (significance level)  \n",
    "$\\beta = P(\\text{fail  to  reject} | \\text{null   false})$  \n",
    "\n",
    "For **small sample** $\\alpha$ is low, while $\\beta$ is high.  \n",
    "\n",
    "**Sensitivity:** 1-$\\beta$ and we want it to be high. Typical value - 80%.\n",
    "\n",
    "For **large sample** $\\alpha$ is the same, while $\\beta$ is lower.  \n",
    "\n",
    "<a target=\"_blank\" href=http://www.evanmiller.org/ab-testing/sample-size.html>Online calculator</a> to calculate the required sample size to get the required significance level, statistical power and minimal detectable change.\n",
    "\n",
    "**Example:**   \n",
    "$N=1000, x = 100, d_{min} = 0.02, \\alpha = 0.05, \\beta = 0.2$ \n",
    "Sample size: 3623."
   ]
  },
  {
   "cell_type": "markdown",
   "metadata": {},
   "source": [
    "How changes in the test parameters influence the required sample size in the following cases:   \n",
    "**1) For higher click-through probability in control (but < 0.5):**  \n",
    "Solution: \n",
    "$SE = \\sqrt{\\frac{p(1-p)}{N}}$.  \n",
    "For p = 0.5: SE = 0.5; p = 0.1: SE = 0.3. So as we get closer to 0.5, the standard error will be getting bigger, so we will need more observations to compensate that.   \n",
    "\n",
    "**2) Increased practical significance level ($d_{dim}$):**  \n",
    "If we increase that, it means that we care only about bigger changes, so we don't need that high sensitivity. Hence, we can decrease the number of samples. \n",
    "\n",
    "**3) Increased confidence level ($1-\\alpha$):**   \n",
    "We want to be more confident that the change occured before we reject the null. Hence, we will need more samples. \n",
    "\n",
    "**4) Increased sensitivity ($1-\\beta$):**  \n",
    "We need more samples to narrower the distribution (we're less likely then to fail to reject the null if it's false).\n"
   ]
  },
  {
   "cell_type": "markdown",
   "metadata": {},
   "source": [
    "### Full Example"
   ]
  },
  {
   "cell_type": "markdown",
   "metadata": {},
   "source": [
    "**Given:**  \n",
    "$N_{cont}=10,072, N_{exp}=9,886, x_{cont}=974, x_{exp}=1,242, d_{min} = 0.02, (1-\\alpha) = 95\\%$\n",
    "\n",
    "**Question:**  \n",
    "Should we launch the new experience? \n",
    "\n",
    "**Solution:**  \n",
    "Let's start with finding pooled probability:  \n",
    "$$\\hat{p} = \\frac{x_{cont}+x_{exp}}{N_{cont}+N_{exp}} = \\frac{974+1242}{10072+9886} = 0.111$$  \n",
    "$$SEpool = \\sqrt{\\hat{p}_{pool}*(1-\\hat{p}_{pool})*(\\frac{1}{N_{cont}}+\\frac{1}{N_{exp}})} = \\sqrt{0.111*(1-0.111)*(\\frac{1}{10072}+\\frac{1}{9886})} = 0.00445$$  \n",
    "$$\\hat{d} = \\hat{p}_{exp}-\\hat{p}_{cont} = \\frac{1242}{9886} - \\frac{974}{10072}=0.0289$$   \n",
    "\n",
    "Then check the conditions for rejecting hypothesis for 95% confidence interval. Z-score is 1.96, so our margin of error is $1.96*\\text{SEpool}=0.008722$  \n",
    "The confidence interval then will be defined as follows:  \n",
    "$[\\hat{d}-m, \\hat{d}+m] = [0.0202, 0.0376]$  \n",
    "It meanst that with probability of 95% we will have at least 2.02% of a change (we aimed for 2%), so we can conclude that we should launch the new experience. "
   ]
  },
  {
   "cell_type": "markdown",
   "metadata": {},
   "source": [
    "<p><img src=\"confidence.png\" width=\"500\" align='left'></p>"
   ]
  },
  {
   "cell_type": "markdown",
   "metadata": {},
   "source": [
    "*Image Source: Udacity*"
   ]
  },
  {
   "cell_type": "markdown",
   "metadata": {},
   "source": [
    "## AB Testing in Python with Sampling Distribution"
   ]
  },
  {
   "cell_type": "markdown",
   "metadata": {},
   "source": [
    "Steps: \n",
    "\n",
    "1. Compute the observed difference between the metric, click through rate, for the control and experiment group.  \n",
    "2. Simulated the sampling distribution for the difference in proportions (or difference in click through rates), using bootstrapping.    \n",
    "3. Use this sampling distribution to simulate the distribution under the null hypothesis, by creating a random normal distribution centered at 0 with the same spread and size.  \n",
    "4. Computed the p-value by finding the proportion of values in the null distribution that were greater than our observed difference.  \n",
    "5. Use this p-value to determine the statistical significance of our observed difference."
   ]
  },
  {
   "cell_type": "markdown",
   "metadata": {},
   "source": [
    "Note: if we're testing multiple metrics, then we must adjust the $\\alpha$ using, for example, Bonferroni correction. If we have 4 metrics and $\\alpha=0.05$, then the new, adjusted $\\alpha$ will be $0.05/4 = 0.0125$ and we should compare each metric with this new $\\alpha$."
   ]
  },
  {
   "cell_type": "markdown",
   "metadata": {},
   "source": [
    "Other methods for multiple tests: \n",
    "- <a href=\"https://en.wikipedia.org/wiki/Closed_testing_procedure\">Closed testing procedure</a>  \n",
    "- <a href=\"https://en.wikipedia.org/wiki/Boole%27s_inequality\">Boole-Bonferroni method</a>   \n",
    "- <a href=\"https://en.wikipedia.org/wiki/Holm–Bonferroni_method\">Holm-Bonferroni method</a> "
   ]
  },
  {
   "cell_type": "code",
   "execution_count": null,
   "metadata": {},
   "outputs": [],
   "source": []
  }
 ],
 "metadata": {
  "kernelspec": {
   "display_name": "Python [conda env:root]",
   "language": "python",
   "name": "conda-root-py"
  },
  "language_info": {
   "codemirror_mode": {
    "name": "ipython",
    "version": 3
   },
   "file_extension": ".py",
   "mimetype": "text/x-python",
   "name": "python",
   "nbconvert_exporter": "python",
   "pygments_lexer": "ipython3",
   "version": "3.6.6"
  }
 },
 "nbformat": 4,
 "nbformat_minor": 2
}
