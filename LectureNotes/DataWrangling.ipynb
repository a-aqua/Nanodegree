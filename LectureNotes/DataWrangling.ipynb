{
 "cells": [
  {
   "cell_type": "markdown",
   "metadata": {},
   "source": [
    "# Data Wrangling"
   ]
  },
  {
   "cell_type": "markdown",
   "metadata": {},
   "source": [
    "3 important steps:  \n",
    "- gathering. \n",
    "- assessing  \n",
    "- cleaning "
   ]
  },
  {
   "cell_type": "markdown",
   "metadata": {},
   "source": [
    "## Gather"
   ]
  },
  {
   "cell_type": "markdown",
   "metadata": {},
   "source": [
    "**Data quality** is a perception or an assessment of data's fitness to serve its purpose in a given context.\n",
    "\n",
    "**Common data quality issues**\n",
    "\n",
    "- missing data\n",
    "- invalid data (e.g. negative height) \n",
    "- inaccurate data (due to measurements). \n",
    "- inconsistent data (e.g. different units are used) \n",
    "- nondescriptive column headers\n",
    "\n",
    "**Untidy** data is commonly referred to as \"messy\" data. Messy data has issues with its *structure*.\n",
    "\n",
    "In tidy data:\n",
    "\n",
    "- Each variable forms a column.\n",
    "- Each observation forms a row.\n",
    "- Each type of observational unit forms a table.\n",
    "\n"
   ]
  },
  {
   "cell_type": "markdown",
   "metadata": {},
   "source": [
    "## Assess"
   ]
  },
  {
   "cell_type": "markdown",
   "metadata": {},
   "source": [
    "Two ways to asses: \n",
    "- visually in some spreadsheet software \n",
    "- programmatically (e.g. with info function in pandas)"
   ]
  },
  {
   "cell_type": "markdown",
   "metadata": {},
   "source": [
    "## Clean"
   ]
  },
  {
   "cell_type": "markdown",
   "metadata": {},
   "source": [
    "# Data Quality Dimensions"
   ]
  },
  {
   "cell_type": "markdown",
   "metadata": {},
   "source": [
    "The four main data quality dimensions are:\n",
    "\n",
    "**Completeness**: do we have all of the records that we should? Do we have missing records or not? Are there specific rows, columns, or cells missing?\n",
    "\n",
    "**Validity**: we have the records, but they're not valid, i.e., they don't conform to a defined schema. A schema is a defined set of rules for data. These rules can be real-world constraints (e.g. negative height is impossible) and table-specific constraints (e.g. unique key constraints in tables).\n",
    "\n",
    "**Accuracy**: inaccurate data is wrong data that is valid. It adheres to the defined schema, but it is still incorrect. Example: a patient's weight that is 5 lbs too heavy because the scale was faulty.\n",
    "\n",
    "**Consistency**: inconsistent data is both valid and accurate, but there are multiple correct ways of referring to the same thing. Consistency, i.e., a standard format, in columns that represent the same data across tables and/or within tables is desired.\n",
    "\n",
    "The additional dimensions are super specific cases of these four dimensions listed above. Example: currency, defined as follows: the degree to which data is current with the world that it models. Currency can measure how up-to-date data is. Currency is a specific case of accuracy data in the sense that out-of-date data is (usually) valid but wrong. In other words, our definition of accuracy can include currency."
   ]
  },
  {
   "cell_type": "markdown",
   "metadata": {},
   "source": [
    "### Quality \n",
    "\n",
    "#### Patients table \n",
    "- zip code is a float not a string  \n",
    "- zip code has four digits sometimes  \n",
    "- Tim Neudorf has height 27 inches instead of 72  \n",
    "- full state name sometimes, abbreviations sometimes  \n",
    "- David Gustaffson \n",
    "- Missing demographic information - address \n",
    "- erroneus datatypes (assigned_sex, state, state, zipcode and birthdate columns) \n",
    "- Mulitple phone number formats  \n",
    "- Multiple records for Jackobsen, Gersten, Taylor \n",
    "- kgs instead of lbs for Zaitseva \n",
    "- Nulls represented as dashes \n",
    "\n",
    "#### treatments table   \n",
    "- missing HbA1 changes  \n",
    "- the letter u in staring and ending doses for Auralin and Novodra \n",
    "- lowercase given names and surnames. \n",
    "- missing records (280 instead of 350). \n",
    "- erroneus datatypes (auralin and novodra columns). \n",
    "- Inaccurate HbA1c change (4s mistaken for 9s)\n",
    "\n",
    "#### adverse_reactions table  \n",
    "- lowercase given names and surnames \n",
    "\n",
    "### Tidiness \n",
    "- contact column in `patients` table should be split into phone number and email  \n",
    "- three variables in three columns in `treatments` table"
   ]
  }
 ],
 "metadata": {
  "kernelspec": {
   "display_name": "DAND",
   "language": "python",
   "name": "dand"
  },
  "language_info": {
   "codemirror_mode": {
    "name": "ipython",
    "version": 3
   },
   "file_extension": ".py",
   "mimetype": "text/x-python",
   "name": "python",
   "nbconvert_exporter": "python",
   "pygments_lexer": "ipython3",
   "version": "3.6.8"
  }
 },
 "nbformat": 4,
 "nbformat_minor": 2
}
