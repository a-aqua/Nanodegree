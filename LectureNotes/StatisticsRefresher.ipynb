{
 "cells": [
  {
   "cell_type": "markdown",
   "metadata": {},
   "source": [
    "# Statistics Refresher"
   ]
  },
  {
   "cell_type": "markdown",
   "metadata": {},
   "source": [
    "## Types of variables"
   ]
  },
  {
   "cell_type": "markdown",
   "metadata": {},
   "source": [
    "- Categorical\n",
    "    - Nominal (Gender, Marital Status)\n",
    "    - Ordinal (Letter Grade)\n",
    "- Quantitative: \n",
    "    - Continuous (Height, Age, Income)\n",
    "    - Discrete (Pages in Book, Trees in Yard)"
   ]
  },
  {
   "cell_type": "markdown",
   "metadata": {},
   "source": [
    "## Descriptive Statistics"
   ]
  },
  {
   "cell_type": "markdown",
   "metadata": {},
   "source": [
    "Mean: \n",
    "$$\\bar{x} = \\frac{1}{n} \\sum_{i=1}^{n}{x_i}$$"
   ]
  },
  {
   "cell_type": "markdown",
   "metadata": {},
   "source": [
    "Variance: \n",
    "$$Var(X) = \\frac{1}{n} \\sum_{i=1}^{n} (x_i - \\bar{x})^{2} $$"
   ]
  },
  {
   "cell_type": "markdown",
   "metadata": {},
   "source": [
    "Standard Deviation:\n",
    "$$\\sigma = \\sqrt{\\frac{1}{n} \\sum_{i=1}^{n} (x_i - \\bar{x})^{2}} $$"
   ]
  },
  {
   "cell_type": "markdown",
   "metadata": {},
   "source": [
    "## Distribution Shapes\n",
    "\n",
    "- Left-skewed - most of the data is on the RIGHT  \n",
    "    - mean < median\n",
    "    - examples: GPA, age of death, prices\n",
    "    - better to use 5-number summary\n",
    "- Right-skewed - most of the data is on the LEFT:\n",
    "    - mean > median\n",
    "    - examples: human wealth, athletic abilities\n",
    "    - better to use 5-number summary\n",
    "- Normal \n",
    "    - mean = median = mode\n",
    "    - mean and SD give the most information"
   ]
  },
  {
   "cell_type": "markdown",
   "metadata": {},
   "source": [
    "## Basic definitions"
   ]
  },
  {
   "cell_type": "markdown",
   "metadata": {},
   "source": [
    "- Population - our entire group of interest.  \n",
    "- Parameter - numeric summary about a population  \n",
    "- Sample - subset of the population  \n",
    "- Statistic numeric summary about a sample"
   ]
  },
  {
   "cell_type": "markdown",
   "metadata": {},
   "source": [
    "## Normal Distribution "
   ]
  },
  {
   "cell_type": "markdown",
   "metadata": {},
   "source": [
    "$$f(x) = \\frac{1}{\\sqrt{2 \\pi \\sigma^2}} e^{{- \\frac{1}{2} * \\frac{(x-\\mu)^2}{2 \\sigma^2}}} $$"
   ]
  },
  {
   "cell_type": "markdown",
   "metadata": {},
   "source": [
    "## Sampling Distribution"
   ]
  },
  {
   "cell_type": "markdown",
   "metadata": {},
   "source": [
    "A sampling distribution is the distribution of a statistic. Example: take n samples from population. Average each, this will be a sampling distribution."
   ]
  },
  {
   "cell_type": "markdown",
   "metadata": {},
   "source": [
    "<b>Mean:</b>   \n",
    "Parameter - $\\mu$, statistic - $\\bar{x}$, $\\hat{\\mu}$   \n",
    "<b>Standard deviation:</b>     \n",
    "Parameter - $\\sigma$, statistic - $S$, $\\hat{\\sigma}$  \n",
    "<b>Proportion:</b>  \n",
    "Parameter - $\\pi$, statistic - $p$, $\\hat{\\pi}$  \n",
    "<b>Regression coefficient:</b>  \n",
    "Parameter - $\\beta$, statistic - $b$, $\\hat{\\beta}$"
   ]
  },
  {
   "cell_type": "markdown",
   "metadata": {},
   "source": [
    "## Law of Large Numbers"
   ]
  },
  {
   "cell_type": "markdown",
   "metadata": {},
   "source": [
    "As our sample size increases, the sample mean gets closer to the population mean.  \n",
    "Methods: Maxiumum Likelihood Estimation, Method of Moments Estimation, Bayesian Estimation"
   ]
  },
  {
   "cell_type": "markdown",
   "metadata": {},
   "source": [
    "## Central Limit Theorem"
   ]
  },
  {
   "cell_type": "markdown",
   "metadata": {},
   "source": [
    "With a large enough sample size the sampling distribution of the mean will be normally distributed.  \n",
    "CLT applies to: \n",
    "- sample means ($\\bar{x}$)  \n",
    "- sample proportions ($p$)  \n",
    "- difference in sample means ($\\hat{x_1}-\\hat{x_2}$  \n",
    "- difference in sample proportions ($p_1 - p_2$)  \n",
    "\n",
    "Doesn't apply to: $S^2$, r (correlation coefficient), $x_n$ (maximum number)"
   ]
  },
  {
   "cell_type": "markdown",
   "metadata": {},
   "source": [
    "### CLT Example: "
   ]
  },
  {
   "cell_type": "code",
   "execution_count": 1,
   "metadata": {},
   "outputs": [
    {
     "data": {
      "image/png": "[encoded data removed]",
      "text/plain": [
       "<Figure size 432x288 with 1 Axes>"
      ]
     },
     "metadata": {
      "needs_background": "light"
     },
     "output_type": "display_data"
    }
   ],
   "source": [
    "import numpy as np\n",
    "import pandas as pd\n",
    "import matplotlib.pyplot as plt\n",
    "\n",
    "%matplotlib inline\n",
    "np.random.seed(42)\n",
    "\n",
    "pop_data = np.random.gamma(1,100,3000)\n",
    "plt.hist(pop_data);"
   ]
  },
  {
   "cell_type": "code",
   "execution_count": 2,
   "metadata": {},
   "outputs": [],
   "source": [
    "means_size_100 = np.array([])\n",
    "for i in range(10000):\n",
    "    mean = np.random.choice(pop_data, 100).mean()\n",
    "    means_size_100 = np.append(means_size_100, mean)"
   ]
  },
  {
   "cell_type": "code",
   "execution_count": 3,
   "metadata": {},
   "outputs": [
    {
     "data": {
      "image/png": "[encoded data removed]",
      "text/plain": [
       "<Figure size 432x288 with 1 Axes>"
      ]
     },
     "metadata": {
      "needs_background": "light"
     },
     "output_type": "display_data"
    }
   ],
   "source": [
    "plt.hist(means_size_100);"
   ]
  },
  {
   "cell_type": "code",
   "execution_count": 4,
   "metadata": {},
   "outputs": [
    {
     "data": {
      "text/plain": [
       "100.35978700795846"
      ]
     },
     "execution_count": 4,
     "metadata": {},
     "output_type": "execute_result"
    }
   ],
   "source": [
    "pop_data.mean()"
   ]
  },
  {
   "cell_type": "code",
   "execution_count": 5,
   "metadata": {
    "scrolled": true
   },
   "outputs": [
    {
     "data": {
      "text/plain": [
       "100.45928252074191"
      ]
     },
     "execution_count": 5,
     "metadata": {},
     "output_type": "execute_result"
    }
   ],
   "source": [
    "means_size_100.mean()"
   ]
  },
  {
   "cell_type": "markdown",
   "metadata": {},
   "source": [
    "## Bootstrapping\n",
    "\n",
    "Bootstrapping (statistics) - sampling with replacement. Random.choice samples with replacement. \n",
    "<a href=\"https://stats.stackexchange.com/questions/26088/explaining-to-laypeople-why-bootstrapping-works\">additional info</a> \n",
    "In Python bootstrapping is performed as follows: "
   ]
  },
  {
   "cell_type": "code",
   "execution_count": 6,
   "metadata": {},
   "outputs": [],
   "source": [
    "sample_size = 200\n",
    "sample = pd.DataFrame(pop_data).sample(sample_size, replace=True)"
   ]
  },
  {
   "cell_type": "markdown",
   "metadata": {},
   "source": [
    "## Confidence Intervals with Bootstrapping\n",
    "\n",
    "Traditional methods for hypothesis testing at <a href=\"https://stattrek.com/hypothesis-test/hypothesis-testing.aspx\">StatTrek</a>"
   ]
  },
  {
   "cell_type": "markdown",
   "metadata": {},
   "source": [
    "The interval that \"captures\" the value of the parameter with some probability. For example, we're interested in 95% confidence interval (i.e. the parameter is within this interval with 95% probability.  \n",
    "\n",
    "### Confidence interval for the mean. \n",
    "The process (with bootstrapping): \n",
    "- Take N (where N is some large number) samples from the sample (with replacement) \n",
    "- Take the means of these samples (and aggregate into an array)  \n",
    "- We expect these sample means to have normal distribution \n",
    "- Take the value for the 2.5th percentale and 97.5th percentile. \n",
    "- These are the ends of the confidence interval \n",
    "\n",
    "In Python it can be done as follows: "
   ]
  },
  {
   "cell_type": "code",
   "execution_count": 7,
   "metadata": {},
   "outputs": [],
   "source": [
    "original_sample = pd.DataFrame(pop_data).sample(200) # create a sample to imitate getting data from real world\n",
    "# create sampling distribution\n",
    "means = []\n",
    "for _ in range(10000):\n",
    "    samp = original_sample.sample(200, replace=True)\n",
    "    means.append(samp.mean())\n",
    "means = np.array(means)"
   ]
  },
  {
   "cell_type": "code",
   "execution_count": 8,
   "metadata": {},
   "outputs": [
    {
     "data": {
      "image/png": "[encoded data removed]",
      "text/plain": [
       "<Figure size 432x288 with 1 Axes>"
      ]
     },
     "metadata": {
      "needs_background": "light"
     },
     "output_type": "display_data"
    }
   ],
   "source": [
    "plt.hist(means);"
   ]
  },
  {
   "cell_type": "code",
   "execution_count": 9,
   "metadata": {},
   "outputs": [
    {
     "data": {
      "text/plain": [
       "(90.9000826902922, 120.8399790996834)"
      ]
     },
     "execution_count": 9,
     "metadata": {},
     "output_type": "execute_result"
    }
   ],
   "source": [
    "np.percentile(means, 2.5), np.percentile(means, 97.5)"
   ]
  },
  {
   "cell_type": "markdown",
   "metadata": {},
   "source": [
    "Same procedure implemented with traditional methods in Python:"
   ]
  },
  {
   "cell_type": "code",
   "execution_count": 10,
   "metadata": {},
   "outputs": [
    {
     "data": {
      "text/plain": [
       "(array([90.2532154]), array([120.66155991]))"
      ]
     },
     "execution_count": 10,
     "metadata": {},
     "output_type": "execute_result"
    }
   ],
   "source": [
    "import statsmodels.stats.api as sms\n",
    "sms.DescrStatsW(original_sample).tconfint_mean()"
   ]
  },
  {
   "cell_type": "markdown",
   "metadata": {},
   "source": [
    "OR:"
   ]
  },
  {
   "cell_type": "code",
   "execution_count": 11,
   "metadata": {},
   "outputs": [
    {
     "data": {
      "text/plain": [
       "(array([90.34568039]), array([120.56909492]))"
      ]
     },
     "execution_count": 11,
     "metadata": {},
     "output_type": "execute_result"
    }
   ],
   "source": [
    "sms.zconfint(original_sample)"
   ]
  },
  {
   "cell_type": "markdown",
   "metadata": {},
   "source": [
    "Actual value for the entire population was (and we can see it's withing the interval!):"
   ]
  },
  {
   "cell_type": "code",
   "execution_count": 12,
   "metadata": {},
   "outputs": [
    {
     "data": {
      "text/plain": [
       "100.35978700795846"
      ]
     },
     "execution_count": 12,
     "metadata": {},
     "output_type": "execute_result"
    }
   ],
   "source": [
    "pop_data.mean()"
   ]
  },
  {
   "cell_type": "markdown",
   "metadata": {},
   "source": [
    "### Confidence interval for the difference of means"
   ]
  },
  {
   "cell_type": "markdown",
   "metadata": {},
   "source": [
    "Almost the same as the confidence interval for the mean. However, the conclusion is different. If the resulting interval doesn't contain zero, we suggest that there was a difference: we are 95% confident that the difference is within the obtained interval. \n",
    "\n",
    "Application example: compare the average life span for smokers and non-smokers. "
   ]
  },
  {
   "cell_type": "markdown",
   "metadata": {},
   "source": [
    "Traditional methods: \n",
    "\n",
    "<code>cm = statsmodels.stats.api.CompareMeans(sms.DescrStatsW(x1), sms.DescrStatsW)  \n",
    "cm.tconfint_diff(usevar='unequal')\n",
    "</code> \n"
   ]
  },
  {
   "cell_type": "markdown",
   "metadata": {},
   "source": [
    "## Practical and Statistical Significance"
   ]
  },
  {
   "cell_type": "markdown",
   "metadata": {},
   "source": [
    "Statistical Significance - evidence from hypothesis tests and confidence intervals that $H_1$ is true.   \n",
    "Practial Significance - considers real world aspects, not just numbers in making final conclusions  \n",
    "\n",
    "Statistical significance is higher with large sample size. "
   ]
  },
  {
   "cell_type": "markdown",
   "metadata": {},
   "source": [
    "## Hypothesis Testing\n",
    "Hypothesis Testing and Confidence Intervals are related techniques. A 95% confidence interval will draw the same conclusions as a hypothesis test with a type I error rate of 0.05 in terms of which hypothesis to choose, because:\n",
    "$1-0.95 = 0.05$\n",
    "assuming that the alternative hypothesis is a two sided test."
   ]
  },
  {
   "cell_type": "markdown",
   "metadata": {},
   "source": [
    "$H_0$ - null-hypothesis. A condition we believe to be true before we collect the data.  \n",
    "\n",
    "$H_0$ and $H_1$ should be competing and <b>non-overlapping</b> hypotheses. \n",
    "\n",
    "$H_1$ is what we want to prove to be true  \n",
    "\n",
    "$H_0$ usually uses $=, <=, >=$, while $H_1$ uses $\\neq, >, <$\n",
    "\n",
    "### Example 1\n",
    "\n",
    "We want to check if the new page drives more traffic. Then: \n",
    "$$H_1: \\mu_{new} > \\mu_{old}$$\n",
    "$$H_0: \\mu_{new}  <= \\mu_{old}$$\n"
   ]
  },
  {
   "cell_type": "markdown",
   "metadata": {},
   "source": [
    "<b>Type I Error (aka False Positive - $\\alpha$) </b>: alternative is chosen, but the null is actually true.  \n",
    "<b>Type II Error (aka False Negative - $\\beta$) </b>: null is chosen, but the alternative is actually true.  \n",
    "Type I Error is considered to be worse than Type II Error\n",
    "\n",
    "Common practice: set threshold for Type I errors and they try to make the level of Type II Error as low as possible. \n",
    "<b>Typial thresholds:</b>  \n",
    "- In Business and Research: $\\alpha = 0.05$\n",
    "- In Medicine: $\\alpha = 0.01$"
   ]
  },
  {
   "cell_type": "markdown",
   "metadata": {},
   "source": [
    "### Example 2\n",
    "\n",
    "We would like to check if the average height of the population (!) is greater than 70 inches. "
   ]
  },
  {
   "cell_type": "code",
   "execution_count": 13,
   "metadata": {},
   "outputs": [],
   "source": [
    "df = pd.read_csv('data/coffee_dataset.csv')"
   ]
  },
  {
   "cell_type": "markdown",
   "metadata": {},
   "source": [
    "$$H_0: \\mu <= 70$$\n",
    "$$H_1: \\mu > 70$$"
   ]
  },
  {
   "cell_type": "code",
   "execution_count": 14,
   "metadata": {},
   "outputs": [],
   "source": [
    "sample_df = df.sample(150)"
   ]
  },
  {
   "cell_type": "code",
   "execution_count": 15,
   "metadata": {},
   "outputs": [],
   "source": [
    "means = []\n",
    "for _ in range(10000):\n",
    "    bootsample = sample_df.sample(150, replace=True)\n",
    "    means.append(bootsample.height.mean())    "
   ]
  },
  {
   "cell_type": "markdown",
   "metadata": {},
   "source": [
    "#### Approach 1: Hypothesis Testing"
   ]
  },
  {
   "cell_type": "code",
   "execution_count": 16,
   "metadata": {},
   "outputs": [],
   "source": [
    "low, high = np.percentile(means, 2.5), np.percentile(means, 97.5)"
   ]
  },
  {
   "cell_type": "code",
   "execution_count": 17,
   "metadata": {},
   "outputs": [
    {
     "data": {
      "image/png": "[encoded data removed]",
      "text/plain": [
       "<Figure size 432x288 with 1 Axes>"
      ]
     },
     "metadata": {
      "needs_background": "light"
     },
     "output_type": "display_data"
    }
   ],
   "source": [
    "plt.hist(means);\n",
    "plt.axvline(low, color='r', linewidth=2);\n",
    "plt.axvline(high, color='r', linewidth=2);"
   ]
  },
  {
   "cell_type": "markdown",
   "metadata": {},
   "source": [
    "We suggest that $H_0$ is true since 70 is completely out of the interval. "
   ]
  },
  {
   "cell_type": "markdown",
   "metadata": {},
   "source": [
    "#### Approach 2: Simulating a sampling distribution"
   ]
  },
  {
   "cell_type": "markdown",
   "metadata": {},
   "source": [
    "The idea is to simulate the distribution from the closes value that is still in the null space. In our case - 70"
   ]
  },
  {
   "cell_type": "code",
   "execution_count": 18,
   "metadata": {},
   "outputs": [
    {
     "data": {
      "text/plain": [
       "0.2457793894721801"
      ]
     },
     "execution_count": 18,
     "metadata": {},
     "output_type": "execute_result"
    }
   ],
   "source": [
    "np.std(means)"
   ]
  },
  {
   "cell_type": "markdown",
   "metadata": {},
   "source": [
    "We expect that the mean follows the normal distribution. So we are going to simulate it:"
   ]
  },
  {
   "cell_type": "code",
   "execution_count": 19,
   "metadata": {},
   "outputs": [],
   "source": [
    "null_vals = np.random.normal(70, np.std(means), 10000)"
   ]
  },
  {
   "cell_type": "code",
   "execution_count": 20,
   "metadata": {},
   "outputs": [
    {
     "data": {
      "image/png": "[encoded data removed]",
      "text/plain": [
       "<Figure size 432x288 with 1 Axes>"
      ]
     },
     "metadata": {
      "needs_background": "light"
     },
     "output_type": "display_data"
    }
   ],
   "source": [
    "plt.hist(null_vals);"
   ]
  },
  {
   "cell_type": "code",
   "execution_count": 21,
   "metadata": {},
   "outputs": [
    {
     "data": {
      "text/plain": [
       "67.90329853936709"
      ]
     },
     "execution_count": 21,
     "metadata": {},
     "output_type": "execute_result"
    }
   ],
   "source": [
    "sample_df.height.mean()"
   ]
  },
  {
   "cell_type": "markdown",
   "metadata": {},
   "source": [
    "Hence, $H_0$ is true (we can't reject it!). However, if the $H_0$ was that $\\mu=70$, we would have been able to reject it. "
   ]
  },
  {
   "cell_type": "markdown",
   "metadata": {},
   "source": [
    "## p-value"
   ]
  },
  {
   "cell_type": "markdown",
   "metadata": {},
   "source": [
    "p-value is the probability of observing the statistic (or one more extreme value in favor of the alternative) if the null hypothesis is true. The shaded area under the curve is the area we need to calculate to get the p-value."
   ]
  },
  {
   "cell_type": "markdown",
   "metadata": {},
   "source": [
    "<p><img src=\"pvalue.jpg\" width=\"600\" align='left'></p>\n",
    "Source: Udacity"
   ]
  },
  {
   "cell_type": "markdown",
   "metadata": {},
   "source": [
    "<a href=https://rebeccaebarnes.github.io/2018/05/01/what-is-a-p-value>Explanation of p-value with examples</a> "
   ]
  },
  {
   "cell_type": "markdown",
   "metadata": {},
   "source": [
    "The process:\n",
    "\n",
    "- Simulate the values of your statistic that are possible from the null (as shown in Approach 2).  \n",
    "- Calculate the value of the statistic you actually obtained in your data (in the sample).\n",
    "- Compare your statistic to the values from the null.\n",
    "- Calculate the proportion of null values that are considered extreme based on your alternative."
   ]
  },
  {
   "cell_type": "markdown",
   "metadata": {},
   "source": [
    "Small p-value - it's not likely that the it's from the null hypothesis distribution. Typical value for comparison is 0.05. If the p-value is large, it means that it's very likely that the null hypothesis is true. \n",
    "The p-value threshold depends of how large Type I Error we can afford. So if we set $\\alpha = 0.05$, then the p-value should be $\\leq 0.05$.  \n",
    "General rule:  \n",
    "If $\\text{p-value } \\leq \\alpha \\implies \\text{reject } H_0$  \n",
    "Else: can't reject $H_0$"
   ]
  },
  {
   "cell_type": "markdown",
   "metadata": {},
   "source": [
    "### Example\n",
    "Dataset: coffee"
   ]
  },
  {
   "cell_type": "code",
   "execution_count": 22,
   "metadata": {},
   "outputs": [],
   "source": [
    "full_data = pd.read_csv('data/coffee_dataset.csv')"
   ]
  },
  {
   "cell_type": "markdown",
   "metadata": {},
   "source": [
    "Null hypothesis: \n",
    "$$H_0: \\mu = 67.60$$\n",
    "$$H_1: \\mu \\neq 67.60$$"
   ]
  },
  {
   "cell_type": "code",
   "execution_count": 23,
   "metadata": {},
   "outputs": [],
   "source": [
    "null_mu = 67.60"
   ]
  },
  {
   "cell_type": "markdown",
   "metadata": {},
   "source": [
    "Step by step implementation:   \n",
    "<b>Step 1: Take 1 sample and create sampling distribution</b>"
   ]
  },
  {
   "cell_type": "code",
   "execution_count": 24,
   "metadata": {},
   "outputs": [],
   "source": [
    "np.random.seed(42)\n",
    "sample1 = full_data.sample(5)"
   ]
  },
  {
   "cell_type": "code",
   "execution_count": 25,
   "metadata": {},
   "outputs": [],
   "source": [
    "means = []\n",
    "for _ in range(10000):\n",
    "    means.append(full_data.sample(5).height.mean())"
   ]
  },
  {
   "cell_type": "markdown",
   "metadata": {},
   "source": [
    "<b>Step 2: Find the standard deviation of the sampling distribution</b> "
   ]
  },
  {
   "cell_type": "code",
   "execution_count": 26,
   "metadata": {},
   "outputs": [],
   "source": [
    "sampling_std = np.std(means)"
   ]
  },
  {
   "cell_type": "markdown",
   "metadata": {},
   "source": [
    "<b>Step 3: Simulate mean values under the null hypothesis</b> "
   ]
  },
  {
   "cell_type": "code",
   "execution_count": 27,
   "metadata": {},
   "outputs": [],
   "source": [
    "null_vals = np.random.normal(null_mu, sampling_std,10000)"
   ]
  },
  {
   "cell_type": "markdown",
   "metadata": {},
   "source": [
    "<b>Step 4: Define boundaries</b> "
   ]
  },
  {
   "cell_type": "code",
   "execution_count": 28,
   "metadata": {},
   "outputs": [
    {
     "data": {
      "text/plain": [
       "(67.31765747950915, 67.88234252049084)"
      ]
     },
     "execution_count": 28,
     "metadata": {},
     "output_type": "execute_result"
    }
   ],
   "source": [
    "low_ext = (null_mu - (sample1.height.mean() - null_mu))  \n",
    "high_ext = sample1.height.mean() \n",
    "low_ext, high_ext"
   ]
  },
  {
   "cell_type": "markdown",
   "metadata": {},
   "source": [
    "<b>Step 5: Calculate p-value as the % of the simulated data outside of this range</b>"
   ]
  },
  {
   "cell_type": "code",
   "execution_count": 29,
   "metadata": {},
   "outputs": [
    {
     "data": {
      "text/plain": [
       "0.8376000000000002"
      ]
     },
     "execution_count": 29,
     "metadata": {},
     "output_type": "execute_result"
    }
   ],
   "source": [
    "((null_vals > high_ext).mean() + (null_vals < low_ext)).mean()"
   ]
  },
  {
   "cell_type": "markdown",
   "metadata": {},
   "source": [
    "<b>Step 6: Interpret the result</b>  \n",
    "Since p-value is way above 0.05, we can't reject the null hypothesis."
   ]
  },
  {
   "cell_type": "markdown",
   "metadata": {},
   "source": [
    "<b>Important note:</b> as the sample gets large, even very small change appear to look significant which can be very misleading. As the sample grows large, the inverval becomes narrower and hence it's very easy to reject the null hypothesis which is not always correct."
   ]
  },
  {
   "cell_type": "markdown",
   "metadata": {},
   "source": [
    "## Multiple Hypothesis Tests"
   ]
  },
  {
   "cell_type": "markdown",
   "metadata": {},
   "source": [
    "### Bonferroni Correction "
   ]
  },
  {
   "cell_type": "markdown",
   "metadata": {},
   "source": [
    "If we do multiple tests, Type I Error compounds. So we need to adjust it:   \n",
    "New Type I Error rate = (error rate you want) / (number of tests).   \n",
    "This is called the Bonferroni corrected rate. \n",
    "\n",
    "#### Other techniques: \n",
    "<a href=\"http://www.itl.nist.gov/div898/handbook/prc/section4/prc471.htm\">Tukey correction</a>  \n",
    "<a href=\"http://www.nonlinear.com/support/progenesis/comet/faq/v2.0/pq-values.aspx\">Q-values</a> "
   ]
  }
 ],
 "metadata": {
  "kernelspec": {
   "display_name": "Python [conda env:DAND]",
   "language": "python",
   "name": "conda-env-DAND-py"
  },
  "language_info": {
   "codemirror_mode": {
    "name": "ipython",
    "version": 3
   },
   "file_extension": ".py",
   "mimetype": "text/x-python",
   "name": "python",
   "nbconvert_exporter": "python",
   "pygments_lexer": "ipython3",
   "version": "3.7.1"
  }
 },
 "nbformat": 4,
 "nbformat_minor": 2
}
