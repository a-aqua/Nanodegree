{
 "cells": [
  {
   "cell_type": "markdown",
   "metadata": {},
   "source": [
    "# Data Visualization\n",
    "Disclaimer: unlike other lecture notes, these notes were copied directly from Udacity's lectures. My only goal was (and is) to save the key takeaways from the lectures. "
   ]
  },
  {
   "cell_type": "markdown",
   "metadata": {},
   "source": [
    "**Key ideas:**\n",
    "\n",
    "- The key to building great data visualizations is in aiming them at answering the questions you want answered. \n",
    "- Very different datasets can have identical numeric summaries, so it's important to plot the data. Classic example of such datasets is [Anscombe's Quartet](https://en.wikipedia.org/wiki/Anscombe%27s_quartet). More modern example is [Datasaurus' Dozen](https://www.autodeskresearch.com/publications/samestats) "
   ]
  },
  {
   "cell_type": "code",
   "execution_count": 1,
   "metadata": {},
   "outputs": [
    {
     "data": {
      "text/html": [
       "<img src=\"https://d2f99xq7vri1nk.cloudfront.net/AllDinosGrey_1.png\">\n"
      ],
      "text/plain": [
       "<IPython.core.display.HTML object>"
      ]
     },
     "metadata": {},
     "output_type": "display_data"
    }
   ],
   "source": [
    "%%html\n",
    "<img src=\"https://d2f99xq7vri1nk.cloudfront.net/AllDinosGrey_1.png\">"
   ]
  },
  {
   "cell_type": "markdown",
   "metadata": {},
   "source": [
    "<i>Image Source:\n",
    "Justin Matejka, George Fitzmaurice (2017)<br />\n",
    "Same Stats, Different Graphs: Generating Datasets with Varied Appearance and Identical Statistics through Simulated Annealing<br/>\n",
    "CHI 2017 Conference proceedings:<br/>\n",
    "ACM SIGCHI Conference on Human Factors in Computing Systems</i>"
   ]
  },
  {
   "cell_type": "markdown",
   "metadata": {},
   "source": [
    "## Univariate Analysis "
   ]
  },
  {
   "cell_type": "markdown",
   "metadata": {},
   "source": [
    "For quantitative data, if we are just looking at one column worth of data, we have four common visuals:\n",
    "\n",
    "- Histogram\n",
    "- Normal Quantile Plot\n",
    "- Stem and Leaf Plot\n",
    "- Box and Whisker Plot\n",
    "In most cases, histogram is the beest choice.\n",
    "\n",
    "For categorical data, if we are looking at just one variable (column), we have three common visuals:\n",
    "\n",
    "- Bar Chart\n",
    "- Pie Chart\n",
    "- Pareto Chart (same as bar chart, but the bar are ordered by frequency - often used in production to identify the most common problem, for example)\n",
    "\n",
    "In most cases, bar chart is the best choice. "
   ]
  },
  {
   "cell_type": "markdown",
   "metadata": {},
   "source": [
    "## Bivariate Analysis\n",
    "### Scatter Plots"
   ]
  },
  {
   "cell_type": "markdown",
   "metadata": {},
   "source": [
    "Scatter plots are a common visual for comparing two quantitative variables. A common summary statistic that relates to a scatter plot is the correlation coefficient commonly denoted by r.\n",
    "\n",
    "Though there are a few different ways to measure correlation between two variables, the most common way is with Pearson's correlation coefficient. Pearson's correlation coefficient provides the:\n",
    "\n",
    "- Strength \n",
    "- Direction \n",
    "\n",
    "of a linear relationship. **Spearman's Correlation Coefficient** does not measure linear relationships specifically, and it might be more appropriate for certain cases of associating two variables. In fact, it \"assesses how well the relationship between two variables can be described using a monotonic function\" ([Wikipedia](https://en.wikipedia.org/wiki/Spearman%27s_rank_correlation_coefficient))."
   ]
  },
  {
   "cell_type": "markdown",
   "metadata": {},
   "source": [
    "### Line Plots"
   ]
  },
  {
   "cell_type": "markdown",
   "metadata": {},
   "source": [
    "Line plots are a common plot for viewing data over time. These plots allow us to quickly identify overall trends, seasonal occurrences, peaks, and valleys in the data. You will commonly see these used in looking at stock prices over time, but really tracking anything over time can be easily viewed using these plots."
   ]
  },
  {
   "cell_type": "markdown",
   "metadata": {},
   "source": [
    "Key moments in data visualisation design:\n",
    "\n",
    "1. Understand the context - this means knowing your audience and conveying a clear message about what you want your audience to know or do with the information you are providing. \n",
    "\n",
    "2. Choose an appropriate visual display - this was covered in the last lesson. Check out the lesson titled recap in the previous section if you need a quick refresher. \n",
    "\n",
    "3. Eliminate clutter - you should only provide information to the user that helps convey your message.\n",
    "\n",
    "4. Focus attention where you want it - build visualizations that pull attention to the message you want to highlight. \n",
    "\n",
    "5. Think like a designer - you will learn a number of design principles in this lesson to assist as you start to put together your own data visualizations.\n",
    "\n",
    "6. Tell a story - your visualizations should give the audience a story. The most powerful data visualizations move people to take action."
   ]
  },
  {
   "cell_type": "markdown",
   "metadata": {},
   "source": [
    "There are two main reasons for creating visuals using data:\n",
    "\n",
    "**Exploratory analysis** is done when you are searching for insights. These visualizations don't need to be perfect. You are using plots to find insights, but they don't need to be aesthetically appealing. You are the consumer of these plots, and you need to be able to find the answer to your questions from these plots.\n",
    "\n",
    "**Explanatory analysis** is done when you are providing your results for others. These visualizations need to provide you the emphasis necessary to convey your message. They should be accurate, insightful, and visually appealing.\n",
    "\n",
    "The five steps of the data analysis process:\n",
    "\n",
    "1. Extract - Obtain the data from a spreadsheet, SQL, the web, etc.\n",
    "\n",
    "2. Clean - Here we could use exploratory visuals.\n",
    "\n",
    "3. Explore - Here we use exploratory visuals.\n",
    "\n",
    "4. Analyze - Here we might use either exploratory or explanatory visuals.\n",
    "\n",
    "5. Share - Here is where explanatory visuals live."
   ]
  },
  {
   "cell_type": "markdown",
   "metadata": {},
   "source": [
    "### Experts on Visual Perception "
   ]
  },
  {
   "cell_type": "markdown",
   "metadata": {},
   "source": [
    "Experts and researchers have determined the visual patterns that allow humans to best identify certain patterns. In general, humans are able to best understand data encoded with **positional changes** (differences in x- and y- position as we see with scatterplots) and **length changes** (differences in box heights as we see with bar charts and histograms).\n",
    "\n",
    "Alternatively, humans struggle with understanding data encoded with **color hue changes** (as is commonly used as an additional variable encoding in scatter plots) and **area changes** (as we see in pie charts)."
   ]
  },
  {
   "cell_type": "markdown",
   "metadata": {},
   "source": [
    "### Chart Junk\n",
    "Chart junk refers to all visual elements in charts and graphs that are not necessary to comprehend the information represented on the graph or that distract the viewer from this information.\n",
    "\n",
    "Examples of chart junk:\n",
    "\n",
    "- Heavy grid lines  \n",
    "- Unnecessary text  \n",
    "- Pictures surrounding the visual  \n",
    "- Shading or 3d components  \n",
    "- Ornamented chart axes"
   ]
  },
  {
   "cell_type": "markdown",
   "metadata": {},
   "source": [
    "The data-ink ratio, credited to Edward Tufte, is directly related to the idea of chart junk. The more of the ink in your visual that is related to conveying the message in the data, the better.\n",
    "\n",
    "Limiting chart junk increases the data-ink ratio."
   ]
  },
  {
   "cell_type": "markdown",
   "metadata": {},
   "source": [
    "### The Lie Factor"
   ]
  },
  {
   "cell_type": "markdown",
   "metadata": {},
   "source": [
    "One of the main ways discussed here for looking at data integrity was with the lie factor. Lie factor depicts the degree to which a visualization distorts or misrepresents the data values being plotted. It is calculated in the following way:"
   ]
  },
  {
   "cell_type": "markdown",
   "metadata": {},
   "source": [
    "$$\\text{lie factor} =\\frac{ \\Delta \\text{visual} / {\\text{visual}}_{\\text{start}}  }   {\\Delta \\text{data} / {\\text{data}}_{\\text{start}}}$$"
   ]
  },
  {
   "cell_type": "markdown",
   "metadata": {},
   "source": [
    "The delta symbol (Δ) stands for difference or change. In words, the lie factor is the relative change shown in the graphic divided by the actual relative change in the data. Ideally, the lie factor should be 1: any other value means that there is some mismatch in the ratio of depicted change to actual change.\n",
    "\n"
   ]
  },
  {
   "cell_type": "markdown",
   "metadata": {},
   "source": [
    "**Three tips for using color effectively.**\n",
    "\n",
    "- Before adding color to a visualization, start with black and white.\n",
    "\n",
    "- When using color, use less intense colors - not all the colors of the rainbow, which is the default in many software applications.\n",
    "\n",
    "- Color for communication. Use color to highlight your message and separate groups of interest. Don't add color just to have color in your visualization.\n",
    "\n",
    "**Colorblindness Awareness**\n",
    "\n",
    "To be sensitive to those with colorblindness, you should use color palettes that do not move from red to green without using another element to distinguish this change like shape, position, or lightness. Both of these colors appear in a yellow tint to individuals with the most common types of colorblindness. Instead, use colors on a blue to orange palette."
   ]
  },
  {
   "cell_type": "markdown",
   "metadata": {},
   "source": [
    "### Additional Encodings"
   ]
  },
  {
   "cell_type": "markdown",
   "metadata": {},
   "source": [
    "In general, color and shape are best for categorical variables, while the size of marker can assist in adding additional quantitative data, as we demonstrated here.\n",
    "\n",
    "Only use these additional encodings when absolutely necessary. Often, overuse of these additional encodings suggest you are providing too much information in a single plot. Instead, it might be better to break the information into multiple individual messages, so the audience can understand every aspect of your message.\n",
    "Or show a series of visualisations that are stages in the story!"
   ]
  },
  {
   "cell_type": "markdown",
   "metadata": {},
   "source": [
    "### Data Storytelling"
   ]
  },
  {
   "cell_type": "markdown",
   "metadata": {},
   "source": [
    "Telling stories with data follows these steps:\n",
    "\n",
    "- Start with a Question\n",
    "- Repetition is a Good Thing\n",
    "- Highlight the Answer\n",
    "- Call Your Audience To Action"
   ]
  },
  {
   "cell_type": "markdown",
   "metadata": {},
   "source": [
    "# Useful Links: \n",
    "- [Datasaurus' Dozen](https://www.autodeskresearch.com/publications/samestats)   \n",
    "- [How to Spot Visualization Lies](https://flowingdata.com/2017/02/09/how-to-spot-visualization-lies/)  \n",
    "- [How to Lie with statistics](http://www.horace.org/blog/wp-content/uploads/2012/05/How-to-Lie-With-Statistics-1954-Huff.pdf)  \n",
    "- [Tableau on Colorblindness](https://www.tableau.com/about/blog/2016/4/examining-data-viz-rules-dont-use-red-green-together-53463)"
   ]
  },
  {
   "cell_type": "code",
   "execution_count": null,
   "metadata": {},
   "outputs": [],
   "source": []
  }
 ],
 "metadata": {
  "kernelspec": {
   "display_name": "DAND",
   "language": "python",
   "name": "dand"
  },
  "language_info": {
   "codemirror_mode": {
    "name": "ipython",
    "version": 3
   },
   "file_extension": ".py",
   "mimetype": "text/x-python",
   "name": "python",
   "nbconvert_exporter": "python",
   "pygments_lexer": "ipython3",
   "version": "3.6.8"
  }
 },
 "nbformat": 4,
 "nbformat_minor": 2
}
