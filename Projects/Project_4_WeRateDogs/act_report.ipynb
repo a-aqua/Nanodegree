{
 "cells": [
  {
   "cell_type": "markdown",
   "metadata": {},
   "source": [
    "## Analysis Report"
   ]
  },
  {
   "cell_type": "markdown",
   "metadata": {},
   "source": [
    "### Storing dataset\n",
    "\n",
    "After cleaning, I proceeded to storing the clean dataset as twitter_archive_master.csv - this cleaned dataset was eventually used in the following analysis."
   ]
  },
  {
   "cell_type": "markdown",
   "metadata": {},
   "source": [
    "###  Analyzing & Visualization\n",
    "\n",
    "The following three analysis were made using the cleaned data:\n",
    "\n",
    "- Exploring distribution of retweet counts\n",
    "\n",
    "- Exploring distribution of favourite tweet count\n",
    "\n",
    "- Exploring distribution of rating_numerators"
   ]
  },
  {
   "cell_type": "markdown",
   "metadata": {},
   "source": [
    "#### Exploring distribution of rratings"
   ]
  },
  {
   "cell_type": "code",
   "execution_count": 4,
   "metadata": {},
   "outputs": [],
   "source": [
    "# importing all neccessary dependencies\n",
    "\n",
    "import pandas as pd\n",
    "import numpy as np\n",
    "import matplotlib.pyplot as plt\n",
    "import seaborn as sb\n",
    "\n",
    "# reading data from CSV\n",
    "\n",
    "df = pd.read_csv('twitter_archive_master.csv')"
   ]
  },
  {
   "cell_type": "code",
   "execution_count": 5,
   "metadata": {},
   "outputs": [
    {
     "data": {
      "text/plain": [
       "rating_numerator\n",
       "0.0       2\n",
       "1.0       5\n",
       "2.0       9\n",
       "3.0      19\n",
       "4.0      16\n",
       "5.0      33\n",
       "6.0      32\n",
       "7.0      52\n",
       "8.0      98\n",
       "9.0     154\n",
       "10.0    436\n",
       "11.0    417\n",
       "12.0    489\n",
       "13.0    295\n",
       "14.0     40\n",
       "Name: tweet_id, dtype: int64"
      ]
     },
     "execution_count": 5,
     "metadata": {},
     "output_type": "execute_result"
    }
   ],
   "source": [
    "# creating a sub_rating\n",
    "\n",
    "rating_14 = df[(df.rating_numerator <= 14) & (df.rating_numerator.apply(float.is_integer))]\n",
    "\n",
    "# getting all rating counts of the sub_rating\n",
    "\n",
    "sub_rating = rating_14.groupby(['rating_numerator']).count()['tweet_id']\n",
    "sub_rating"
   ]
  },
  {
   "cell_type": "code",
   "execution_count": 7,
   "metadata": {},
   "outputs": [
    {
     "data": {
      "image/png": "[encoded data removed]",
      "text/plain": [
       "<Figure size 720x432 with 1 Axes>"
      ]
     },
     "metadata": {},
     "output_type": "display_data"
    }
   ],
   "source": [
    "# set the grid style to dark grid\n",
    "sb.set_style('darkgrid')\n",
    "\n",
    "# set the size of figures to 10 inches by 6 inches\n",
    "plt.rcParams['figure.figsize'] = (10, 6)\n",
    "# set the font size of axis labels to 14\n",
    "plt.rcParams['axes.labelsize'] = 14\n",
    "plt.rcParams['axes.titlesize'] = 14\n",
    "\n",
    "# now we plot another chart\n",
    "\n",
    "plt.bar(np.arange(15), sub_rating)\n",
    "plt.xticks(np.arange(15))\n",
    "plt.xlabel('rating numerator')\n",
    "plt.ylabel('frequency')\n",
    "plt.title('Distribution of rating numerators between 0 to 14');"
   ]
  },
  {
   "cell_type": "markdown",
   "metadata": {},
   "source": [
    "#### Insights\n",
    "\n",
    "We can see in the chart above a distribution of ratungs. The ratings range from 0 to 14 with 14 being the highest. From the distribution above, it is apparent that the most awarded rating was a 12.0 while the least awarded rating was a 0. Also, we notice the range of most awarded ratings was between 10 to 13. \n",
    "\n",
    "This is bodes quite well for the dogs and we can infer that the dogs are mostly highly-rated on twitter."
   ]
  },
  {
   "cell_type": "markdown",
   "metadata": {},
   "source": [
    "### Reference\n",
    "\n",
    "- Regular expression operations https://docs.python.org/3/library/re.html\n",
    "- Customize matplotlib using rcParams\n",
    "https://www.youtube.com/watch?v=hJI0wZV7VnA\n",
    "https://matplotlib.org/users/customizing.html\n",
    "- Set binwidth in matplotlib using numpy.linspace()\n",
    "https://stackoverflow.com/questions/28101623/python-pyplot-histogram-adjusting-bin-width-not-number-of-bins/28101842\n",
    "https://docs.scipy.org/doc/numpy/reference/generated/numpy.linspace.html\n",
    "- Plot datetime in scatterplots\n",
    "https://stackoverflow.com/questions/33676608/pandas-type-error-trying-to-plot\n",
    "https://matplotlib.org/api/_as_gen/matplotlib.axes.Axes.plot_date.html\n",
    "- Set size of plots using plt.figure() https://stackoverflow.com/questions/332289/how-do-you-change-the-size-of-figures-drawn-with-matplotlib\n",
    "- Convert Tweepy Status Object into JSON https://stackoverflow.com/questions/27900451/convert-tweepy-status-object-into-json\n",
    "- github.com/help https://github.com/abodacs/Wrangle-and-Analyze-Data-DAND-project/blob/master/wrangle_act.ipynb\n",
    "- The structure of the Status object of Tweepy https://gist.github.com/dev-techmoe/ef676cdd03ac47ac503e856282077bf2\n",
    "- Twitter API - get tweets with specific id https://stackoverflow.com/questions/28384588/twitter-api-get-tweets-with-specific-id\n",
    "- Tweepy documentation http://tweepy.readthedocs.io/en/v3.5.0/index.html\n",
    "- Reading and Writing JSON to a File in Python http://stackabuse.com/reading-and-writing-json-to-a-file-in-python/\n",
    "- Clear cell output in a loop https://stackoverflow.com/questions/24816237/ipython-notebook-clear-cell-output-in-code\n",
    "- Use astype() when NaN is present in pandas series - https://stackoverflow.com/questions/41550746/error-using-astype-when-nan-exists-in-a-dataframe\n",
    "- Select part of the string in a column\n",
    "https://stackoverflow.com/questions/11350770/pandas-dataframe-select-by-partial-string\n",
    "https://pandas.pydata.org/pandas-docs/stable/generated/pandas.Series.str.contains.html\n",
    "- Set options https://pandas.pydata.org/pandas-docs/stable/generated/pandas.set_option.html#pandas.set_option\n",
    "- Set value for one cell https://stackoverflow.com/questions/13842088/set-value-for-particular-cell-in-pandas-dataframe-using-index\n",
    "\n",
    "- Log transform scales https://matplotlib.org/2.0.1/users/transforms_tutorial.html\n",
    "- Search for integers in a float column https://stackoverflow.com/questions/49249860/how-to-check-if-float-pandas-column-contains-only-whole-number"
   ]
  }
 ],
 "metadata": {
  "kernelspec": {
   "display_name": "Python 3",
   "language": "python",
   "name": "python3"
  },
  "language_info": {
   "codemirror_mode": {
    "name": "ipython",
    "version": 3
   },
   "file_extension": ".py",
   "mimetype": "text/x-python",
   "name": "python",
   "nbconvert_exporter": "python",
   "pygments_lexer": "ipython3",
   "version": "3.7.4"
  }
 },
 "nbformat": 4,
 "nbformat_minor": 2
}
